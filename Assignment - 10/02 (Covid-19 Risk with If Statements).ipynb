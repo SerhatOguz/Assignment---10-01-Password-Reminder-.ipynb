answer1 = "yes"
answer2 = "no"


query = input("Are you a cigarette addict older than 75 years old?") 
   
query = input("Do you have a severe chronic disease?") 
     
query = input("Is your immune system too weak?") 

if len(answer1) >= 2:
  print("You are in risky group") 
else: 
  print("You are not in risky group") 

