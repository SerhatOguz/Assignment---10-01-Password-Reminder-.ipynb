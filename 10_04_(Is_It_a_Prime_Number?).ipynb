{
  "nbformat": 4,
  "nbformat_minor": 0,
  "metadata": {
    "colab": {
      "name": "10/04 (Is It a Prime Number?).ipynb",
      "provenance": [],
      "authorship_tag": "ABX9TyOx64YVAPoIhyJsax44wRBN",
      "include_colab_link": true
    },
    "kernelspec": {
      "name": "python3",
      "display_name": "Python 3"
    },
    "language_info": {
      "name": "python"
    }
  },
  "cells": [
    {
      "cell_type": "markdown",
      "metadata": {
        "id": "view-in-github",
        "colab_type": "text"
      },
      "source": [
        "<a href=\"https://colab.research.google.com/github/SerhatOguz/Assignment---10-01-Password-Reminder-.ipynb/blob/main/10_04_(Is_It_a_Prime_Number%3F).ipynb\" target=\"_parent\"><img src=\"https://colab.research.google.com/assets/colab-badge.svg\" alt=\"Open In Colab\"/></a>"
      ]
    },
    {
      "cell_type": "code",
      "metadata": {
        "id": "EypisTytK0Sr"
      },
      "source": [
        "n=int(input(\"Enter a number:\"))\n",
        "if n>1:\n",
        "    for i in range(2,n//2):\n",
        "        if(n%i)==0:\n",
        "            print(n,\"is not a prime number\")\n",
        "            break\n",
        "    else:\n",
        "        print(n,\"is a prime number\")\n",
        "\n"
      ],
      "execution_count": null,
      "outputs": []
    }
  ]
}