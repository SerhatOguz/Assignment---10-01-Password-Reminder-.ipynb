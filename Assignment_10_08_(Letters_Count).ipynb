{
  "nbformat": 4,
  "nbformat_minor": 0,
  "metadata": {
    "colab": {
      "name": "Assignment - 10/08 (Letters Count).ipynb",
      "provenance": [],
      "authorship_tag": "ABX9TyOc4rlBWDb+8OCSsIjT/mtq",
      "include_colab_link": true
    },
    "kernelspec": {
      "name": "python3",
      "display_name": "Python 3"
    },
    "language_info": {
      "name": "python"
    }
  },
  "cells": [
    {
      "cell_type": "markdown",
      "metadata": {
        "id": "view-in-github",
        "colab_type": "text"
      },
      "source": [
        "<a href=\"https://colab.research.google.com/github/SerhatOguz/Assignment---10-01-Password-Reminder-.ipynb/blob/main/Assignment_10_08_(Letters_Count).ipynb\" target=\"_parent\"><img src=\"https://colab.research.google.com/assets/colab-badge.svg\" alt=\"Open In Colab\"/></a>"
      ]
    },
    {
      "cell_type": "code",
      "execution_count": 5,
      "metadata": {
        "colab": {
          "base_uri": "https://localhost:8080/"
        },
        "id": "y7ADhPZBWeLw",
        "outputId": "9e8ad28a-86d5-4cc1-d384-06afd9581df2"
      },
      "outputs": [
        {
          "output_type": "stream",
          "name": "stdout",
          "text": [
            "Count of all characters is : \n",
            "{'h': 1, 'i': 1, 'p': 2, 'o': 2, ' ': 3, 'r': 1, 'u': 2, 'n': 1, 's': 2, 't': 1, '!': 1}\n"
          ]
        }
      ],
      "source": [
        "Assignment = \"hippo runs to us!\"\n",
        "\n",
        "res = {}\n",
        "\n",
        "for keys in Assignment:\n",
        "  res[keys] = res.get(keys, 0) + 1\n",
        "\n",
        "print (\"Count of all characters is : \\n\" +  str(res))"
      ]
    }
  ]
}