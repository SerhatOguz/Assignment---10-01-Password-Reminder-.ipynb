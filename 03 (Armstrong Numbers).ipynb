while True:
    try:
        num = int(input("Enter a number: "))
        break

        
    except ValueError:
        print("\n It is an invalid entry. Don't use non-numeric, float, or negative values!")
        print()
sum = 0
temp = num
while temp > 0:
   digit = temp % 10
   sum += digit ** 3
   temp //= 10
   if num == sum:
    print(num,"is an Armstrong number")
else:
   print(num,"is not an Armstrong number")
